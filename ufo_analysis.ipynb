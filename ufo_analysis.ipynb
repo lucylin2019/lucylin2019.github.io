{
 "cells": [
  {
   "cell_type": "code",
   "execution_count": 27,
   "id": "d65228a2",
   "metadata": {},
   "outputs": [],
   "source": [
    "import pandas as pd\n",
    "import altair as alt\n",
    "\n",
    "# 禁用最大行限制\n",
    "alt.data_transformers.disable_max_rows()\n",
    "\n",
    "# 手动定义列名（根据你的数据样本）\n",
    "columns = [\n",
    "    'datetime_str',      # 第一列：日期时间原始字符串\n",
    "    'city',              # 第二列\n",
    "    'state',             # 第三列\n",
    "    'country',           # 第四列\n",
    "    'ufo_shape',         # 第五列\n",
    "    'duration_seconds',  # 第六列\n",
    "    'duration_text',     # 第七列\n",
    "    'description',       # 第八列\n",
    "    'date_posted',       # 第九列\n",
    "    'latitude',          # 第十列\n",
    "    'longitude'          # 第十一列\n",
    "]\n",
    "\n",
    "# 读取数据时指定列名\n",
    "url = \"https://github.com/UIUC-iSchool-DataViz/is445_data/raw/main/ufo-scrubbed-geocoded-time-standardized-00.csv\"\n",
    "ufo = pd.read_csv(\n",
    "    url,\n",
    "    names=columns,          # 使用自定义列名\n",
    "    parse_dates=['datetime_str'],  # 解析日期时间列\n",
    "    na_values=['']\n",
    ")"
   ]
  },
  {
   "cell_type": "code",
   "execution_count": 28,
   "id": "1fed3cc6",
   "metadata": {},
   "outputs": [],
   "source": [
    "# 转换日期列为标准datetime格式（原数据格式：月/日/年 时:分）\n",
    "ufo['datetime'] = pd.to_datetime(\n",
    "    ufo['datetime_str'],\n",
    "    format='%m/%d/%Y %H:%M',  # 精确指定格式\n",
    "    errors='coerce'           # 转换失败设为NaT\n",
    ")\n",
    "\n",
    "# 删除无效日期数据\n",
    "ufo = ufo.dropna(subset=['datetime'])"
   ]
  },
  {
   "cell_type": "code",
   "execution_count": 29,
   "id": "dc7cb3d4",
   "metadata": {},
   "outputs": [],
   "source": [
    "# 转换经纬度为数值类型\n",
    "ufo['latitude'] = pd.to_numeric(ufo['latitude'], errors='coerce')\n",
    "ufo['longitude'] = pd.to_numeric(ufo['longitude'], errors='coerce')\n",
    "\n",
    "# 删除无效坐标\n",
    "ufo = ufo.dropna(subset=['latitude', 'longitude'])\n",
    "\n",
    "# 过滤合理坐标范围（避免错误数据）\n",
    "ufo = ufo[\n",
    "    (ufo['latitude'].between(-90, 90)) &\n",
    "    (ufo['longitude'].between(-180, 180))\n",
    "]"
   ]
  },
  {
   "cell_type": "code",
   "execution_count": 30,
   "id": "0de8f9a3",
   "metadata": {},
   "outputs": [],
   "source": [
    "# 从datetime列提取年份\n",
    "ufo['year'] = ufo['datetime'].dt.year\n",
    "\n",
    "# 过滤有效年份（示例数据包含1949-2014）\n",
    "ufo = ufo[ufo['year'].between(1900, 2023)]"
   ]
  },
  {
   "cell_type": "code",
   "execution_count": 31,
   "id": "f7163d22",
   "metadata": {},
   "outputs": [],
   "source": [
    "annual_counts = ufo.groupby('year').size().reset_index(name='counts')\n",
    "\n",
    "trend_chart = alt.Chart(annual_counts).mark_line().encode(\n",
    "    x=alt.X('year:O', axis=alt.Axis(title='year', labelAngle=-45)),\n",
    "    y=alt.Y('counts:Q', title='time'),\n",
    "    tooltip=['year', 'counts']\n",
    ").properties(\n",
    "    width=800,\n",
    "    title='UFO annual trend（1949-2014）'\n",
    ")\n",
    "\n",
    "trend_chart.save('trend.html')"
   ]
  },
  {
   "cell_type": "code",
   "execution_count": 32,
   "id": "104c2308",
   "metadata": {},
   "outputs": [],
   "source": [
    "import pandas as pd\n",
    "import altair as alt\n",
    "\n",
    "\n",
    "# 按形状和年份分组统计\n",
    "grouped = ufo_filtered.groupby(['ufo_shape', 'year']).size().reset_index(name='counts')\n",
    "\n",
    "# 创建分面柱状图\n",
    "facet_chart = alt.Chart(grouped).mark_bar().encode(\n",
    "    x=alt.X('year:O', title='year'),\n",
    "    y=alt.Y('counts:Q', title='times'),\n",
    "    color=alt.Color('ufo_shape:N', legend=None),  # 按形状着色\n",
    "    tooltip=['ufo_shape', 'year', 'counts']\n",
    ").properties(\n",
    "    width=200,\n",
    "    height=150\n",
    ").facet(\n",
    "    facet=alt.Facet('ufo_shape:N', title='UFO shape'),  # 按形状分面\n",
    "    columns=3  # 每行显示3个子图\n",
    ").properties(\n",
    "    title='UFO annual trend for different shapes'\n",
    ")\n",
    "\n",
    "facet_chart.save('facet_chart.html')"
   ]
  },
  {
   "cell_type": "code",
   "execution_count": null,
   "id": "03bab9cb",
   "metadata": {},
   "outputs": [],
   "source": []
  },
  {
   "cell_type": "code",
   "execution_count": 24,
   "id": "b29f8434",
   "metadata": {},
   "outputs": [
    {
     "name": "stdout",
     "output_type": "stream",
     "text": [
      "Requirement already satisfied: altair in c:\\users\\lenovo\\anaconda3\\lib\\site-packages (5.4.1)\n",
      "Requirement already satisfied: packaging in c:\\users\\lenovo\\anaconda3\\lib\\site-packages (from altair) (20.9)\n",
      "Requirement already satisfied: jinja2 in c:\\users\\lenovo\\anaconda3\\lib\\site-packages (from altair) (2.11.3)\n",
      "Requirement already satisfied: jsonschema>=3.0 in c:\\users\\lenovo\\anaconda3\\lib\\site-packages (from altair) (3.2.0)\n",
      "Requirement already satisfied: typing-extensions>=4.10.0 in c:\\users\\lenovo\\anaconda3\\lib\\site-packages (from altair) (4.13.2)\n",
      "Requirement already satisfied: narwhals>=1.5.2 in c:\\users\\lenovo\\anaconda3\\lib\\site-packages (from altair) (1.35.0)\n",
      "Requirement already satisfied: pyrsistent>=0.14.0 in c:\\users\\lenovo\\anaconda3\\lib\\site-packages (from jsonschema>=3.0->altair) (0.17.3)\n",
      "Requirement already satisfied: six>=1.11.0 in c:\\users\\lenovo\\anaconda3\\lib\\site-packages (from jsonschema>=3.0->altair) (1.15.0)\n",
      "Requirement already satisfied: setuptools in c:\\users\\lenovo\\anaconda3\\lib\\site-packages (from jsonschema>=3.0->altair) (52.0.0.post20210125)\n",
      "Requirement already satisfied: attrs>=17.4.0 in c:\\users\\lenovo\\anaconda3\\lib\\site-packages (from jsonschema>=3.0->altair) (20.3.0)\n",
      "Requirement already satisfied: MarkupSafe>=0.23 in c:\\users\\lenovo\\anaconda3\\lib\\site-packages (from jinja2->altair) (1.1.1)\n",
      "Requirement already satisfied: pyparsing>=2.0.2 in c:\\users\\lenovo\\anaconda3\\lib\\site-packages (from packaging->altair) (2.4.7)\n"
     ]
    }
   ],
   "source": [
    "!pip install altair --upgrade"
   ]
  },
  {
   "cell_type": "code",
   "execution_count": null,
   "id": "f3f18393",
   "metadata": {},
   "outputs": [],
   "source": []
  },
  {
   "cell_type": "code",
   "execution_count": 2,
   "id": "1189a902",
   "metadata": {},
   "outputs": [
    {
     "name": "stdout",
     "output_type": "stream",
     "text": [
      "Collecting altair\n",
      "  Downloading altair-5.4.1-py3-none-any.whl (658 kB)\n",
      "Requirement already satisfied: packaging in c:\\users\\lenovo\\anaconda3\\lib\\site-packages (from altair) (20.9)\n",
      "Collecting narwhals>=1.5.2\n",
      "  Downloading narwhals-1.35.0-py3-none-any.whl (325 kB)\n",
      "Collecting typing-extensions>=4.10.0\n",
      "  Downloading typing_extensions-4.13.2-py3-none-any.whl (45 kB)\n",
      "Requirement already satisfied: jinja2 in c:\\users\\lenovo\\anaconda3\\lib\\site-packages (from altair) (2.11.3)\n",
      "Requirement already satisfied: jsonschema>=3.0 in c:\\users\\lenovo\\anaconda3\\lib\\site-packages (from altair) (3.2.0)\n",
      "Requirement already satisfied: six>=1.11.0 in c:\\users\\lenovo\\anaconda3\\lib\\site-packages (from jsonschema>=3.0->altair) (1.15.0)\n",
      "Requirement already satisfied: attrs>=17.4.0 in c:\\users\\lenovo\\anaconda3\\lib\\site-packages (from jsonschema>=3.0->altair) (20.3.0)\n",
      "Requirement already satisfied: pyrsistent>=0.14.0 in c:\\users\\lenovo\\anaconda3\\lib\\site-packages (from jsonschema>=3.0->altair) (0.17.3)\n",
      "Requirement already satisfied: setuptools in c:\\users\\lenovo\\anaconda3\\lib\\site-packages (from jsonschema>=3.0->altair) (52.0.0.post20210125)\n",
      "Requirement already satisfied: MarkupSafe>=0.23 in c:\\users\\lenovo\\anaconda3\\lib\\site-packages (from jinja2->altair) (1.1.1)\n",
      "Requirement already satisfied: pyparsing>=2.0.2 in c:\\users\\lenovo\\anaconda3\\lib\\site-packages (from packaging->altair) (2.4.7)\n",
      "Installing collected packages: typing-extensions, narwhals, altair\n",
      "  Attempting uninstall: typing-extensions\n",
      "    Found existing installation: typing-extensions 4.2.0\n",
      "    Uninstalling typing-extensions-4.2.0:\n",
      "      Successfully uninstalled typing-extensions-4.2.0\n",
      "Successfully installed altair-5.4.1 narwhals-1.35.0 typing-extensions-4.13.2\n",
      "Note: you may need to restart the kernel to use updated packages.\n"
     ]
    }
   ],
   "source": [
    "#pip install altair"
   ]
  },
  {
   "cell_type": "code",
   "execution_count": null,
   "id": "b7f62a04",
   "metadata": {},
   "outputs": [],
   "source": []
  }
 ],
 "metadata": {
  "kernelspec": {
   "display_name": "Python 3",
   "language": "python",
   "name": "python3"
  },
  "language_info": {
   "codemirror_mode": {
    "name": "ipython",
    "version": 3
   },
   "file_extension": ".py",
   "mimetype": "text/x-python",
   "name": "python",
   "nbconvert_exporter": "python",
   "pygments_lexer": "ipython3",
   "version": "3.8.8"
  }
 },
 "nbformat": 4,
 "nbformat_minor": 5
}
